{
 "cells": [
  {
   "cell_type": "code",
   "execution_count": 108,
   "metadata": {},
   "outputs": [],
   "source": [
    "import requests\n",
    "from bs4 import BeautifulSoup\n",
    "from urllib.parse import urljoin\n",
    "import re\n",
    "import time\n",
    "from tqdm import tqdm\n",
    "import json"
   ]
  },
  {
   "cell_type": "code",
   "execution_count": 97,
   "metadata": {},
   "outputs": [],
   "source": [
    "def clean_text(text):\n",
    "    # 不可視文字（例：U+2000–U+200F, U+FEFFなど）を削除\n",
    "    return re.sub(r'[\\u2000-\\u200F\\u3000-\\u300F\\uFEFF]', '', text)\n",
    "\n",
    "def fetch_tax_answer(url):\n",
    "    response = requests.get(url)\n",
    "    response.encoding = response.apparent_encoding\n",
    "    soup = BeautifulSoup(response.text, \"html.parser\")\n",
    "\n",
    "    # 本文取得（構造により変更の可能性あり）\n",
    "    main_content = soup.select_one(\"div#bodyArea\")\n",
    "    if not main_content:\n",
    "        main_content = soup.find(\"body\")\n",
    "\n",
    "    text_parts = []\n",
    "    images = []\n",
    "\n",
    "    target_tag_flag = False\n",
    "    for element in main_content.descendants:\n",
    "        if element.name in [\"h2\"] and element.text.strip()==\"概要\":\n",
    "            target_tag_flag = True\n",
    "            \n",
    "        if not target_tag_flag:\n",
    "            continue\n",
    "\n",
    "        if element.name == \"img\":\n",
    "            img_src = element.get(\"src\")\n",
    "            img_url = urljoin(url, img_src)\n",
    "            images.append({\n",
    "                \"image_url\": img_url,\n",
    "                \"context\": element.find_parent().get_text(strip=True)  # 親要素の文脈を取得\n",
    "            })\n",
    "        elif element.name in [\"p\", \"li\", \"div\", \"span\"] and element.text:\n",
    "            text = element.get_text(strip=True)\n",
    "            if text:\n",
    "                text = clean_text(text)\n",
    "                if len(text) >= 10:\n",
    "                    text_parts.append(text)\n",
    "        if element.name in [\"h2\", \"h3\"] and element.text.strip()==\"根拠法令等\":\n",
    "            break\n",
    "\n",
    "    return {\n",
    "        \"text\": \"\\n\".join(text_parts),\n",
    "        \"images\": images\n",
    "    }"
   ]
  },
  {
   "cell_type": "code",
   "execution_count": 98,
   "metadata": {},
   "outputs": [],
   "source": [
    "# 1. URLからHTMLを取得\n",
    "url = \"https://www.nta.go.jp/taxes/shiraberu/taxanswer/code/index.htm\"\n",
    "response = requests.get(url)\n",
    "response.encoding = response.apparent_encoding  # 正しく文字コードを推定"
   ]
  },
  {
   "cell_type": "code",
   "execution_count": 99,
   "metadata": {},
   "outputs": [],
   "source": [
    "# 2. BeautifulSoupでHTML解析\n",
    "soup = BeautifulSoup(response.text, \"html.parser\")"
   ]
  },
  {
   "cell_type": "code",
   "execution_count": 100,
   "metadata": {},
   "outputs": [
    {
     "data": {
      "text/plain": [
       "[{'code': '1000',\n",
       "  'description': '所得税のしくみ',\n",
       "  'url': 'https://www.nta.go.jp/taxes/shiraberu/taxanswer/shotoku/1000.htm'},\n",
       " {'code': '1800',\n",
       "  'description': 'パート収入はいくらまで所得税がかからないか',\n",
       "  'url': 'https://www.nta.go.jp/taxes/shiraberu/taxanswer/shotoku/1800.htm'},\n",
       " {'code': '1810',\n",
       "  'description': '家内労働者等の必要経費の特例',\n",
       "  'url': 'https://www.nta.go.jp/taxes/shiraberu/taxanswer/shotoku/1810.htm'},\n",
       " {'code': '1190',\n",
       "  'description': '配偶者の所得がいくらまでなら配偶者控除が受けられるか',\n",
       "  'url': 'https://www.nta.go.jp/taxes/shiraberu/taxanswer/shotoku/1190.htm'},\n",
       " {'code': '1191',\n",
       "  'description': '配偶者控除',\n",
       "  'url': 'https://www.nta.go.jp/taxes/shiraberu/taxanswer/shotoku/1191.htm'}]"
      ]
     },
     "execution_count": 100,
     "metadata": {},
     "output_type": "execute_result"
    }
   ],
   "source": [
    "# 3. タックスアンサーコードの一覧を抽出\n",
    "answer_codes = []\n",
    "for a_tag in soup.select(\"a[href^='/taxes/shiraberu/taxanswer/']\"):\n",
    "    href = a_tag.get(\"href\")\n",
    "    text = a_tag.get_text(strip=True)\n",
    "    # コードと説明文に分ける（例: 1200 所得税の仕組み）\n",
    "    if text and text[:4].isdigit():\n",
    "        code = text[:4]\n",
    "        description = text[4:].strip()\n",
    "        answer_codes.append({\n",
    "            \"code\": code,\n",
    "            \"description\": description,\n",
    "            \"url\": f\"https://www.nta.go.jp{href}\"\n",
    "        })\n",
    "\n",
    "answer_codes[:5]"
   ]
  },
  {
   "cell_type": "code",
   "execution_count": 102,
   "metadata": {},
   "outputs": [
    {
     "name": "stderr",
     "output_type": "stream",
     "text": [
      "100%|██████████| 870/870 [28:52<00:00,  1.99s/it]\n"
     ]
    }
   ],
   "source": [
    "# 出力例\n",
    "for entry in tqdm(answer_codes):  # 最初の10件のみ表示\n",
    "    # print(f\"{entry['code']} | {entry['description']} | {entry['url']}\")\n",
    "    result = fetch_tax_answer(entry['url'])\n",
    "    entry[\"content\"] = result\n",
    "\n",
    "    time.sleep(2)"
   ]
  },
  {
   "cell_type": "code",
   "execution_count": 104,
   "metadata": {},
   "outputs": [
    {
     "data": {
      "text/plain": [
       "{'code': '1000',\n",
       " 'description': '所得税のしくみ',\n",
       " 'url': 'https://www.nta.go.jp/taxes/shiraberu/taxanswer/shotoku/1000.htm',\n",
       " 'content': {'text': '所得税は個人の所得に対してかかる税金であり1年間のすべての所得金額から所得控除額を差し引いた残りの金額（課税所得金額）に税率を適用して税額を計算します\\n＜所得税および復興特別所得税の申告納税額の計算の流れ＞\\n所得はその性質によって次の10種類に分かれそれぞれの所得について収入や必要経費の範囲あるいは所得の計算方法などが定められています\\nなお所得税は納税義務者に帰属するすべての所得に対して課税することを原則としていますが所得の中には社会政策その他の見地から所得税を課さないもの（非課税所得）があります詳しくはコード2011課税される所得と非課税所得を参照してください\\n課税所得金額はその方のすべての所得金額から所得控除額を差し引いて算出します所得控除とは控除の対象となる扶養親族が何人いるかなどの個人的な事情を加味して税負担を調整するもので次の種類があります\\n4小規模企業共済等掛金控除\\n所得税額は課税所得金額に所得税の税率を適用して計算しますなお所得税の税率は所得が多くなるに従って段階的に高くなり納税者がその支払能力に応じて公平に税を負担するしくみ（超過累進税率）となっています\\n（注）土地建物等や株式等の譲渡所得など他の所得と区分して税額を計算する所得もあります詳しくはコード2240申告分離課税制度を参照してください\\n所得税額から税額控除などの所得税額から差し引かれる金額を控除し基準所得税額を算出します主な税額控除は次のとおりです\\n2政党等寄附金特別控除\\n3認定NPO法人等寄附金特別控除\\n4公益社団法人等寄附金特別控除\\n5(特定増改築等)住宅借入金等特別控除\\n平成25年から令和19年までの各年分については復興特別所得税を所得税と併せて申告・納付します復興特別所得税額は基準所得税額に2.1パーセントの税率を掛けて計算しますまた平成25年１月１日から令和19年12月31日までの間に生ずる所得については源泉所得税の徴収の際に復興特別所得税が併せて徴収されます\\n基準所得税額と復興特別所得税額の合計金額から源泉徴収税額や予定納税額などを差し引き所得税および復興特別所得税の申告納税額（納める税金）を算定しますなお上記の計算において源泉徴収税額や予定納税額が基準所得税額と復興特別所得税の合計金額よりも多いときは確定申告をすることによって納め過ぎの所得税の還付を受けることができます詳しくはコード2020確定申告またはコード2030還付申告を参照してください\\n私は自営業を営んでおり令和6年1月1日から12月31日までの収入金額は1,000万円かかった必要経費は700万円でしたまた1年間で支払った社会保険料は34万円で配偶者（30歳）を扶養していますなお配偶者に収入はなく私の自営業に従事もしていません\\n私は自営業を営んでおり令和6年1月1日から12月31日までの収入金額は1,000万円かかった必要経費は700万円でしたまた1年間で支払った社会保険料は34万円で配偶者（30歳）を扶養していますなお配偶者に収入はなく私の自営業に従事もしていません\\n＜計算＞（1）所得金額（事業所得）10,000,000円（事業収入）  – 7,000,000円（必要経費） ＝ 3,000,000円（2）所得控除額340,000円（社会保険料控除） + 380,000円（配偶者控除） + 480,000円（基礎控除） ＝ 1,200,000円（3）課税所得金額3,000,000円（所得金額） – 1,200,000円（所得控除額） ＝ 1,800,000円（4）所得税額1,800,000円 × 5％ ＝ 90,000円（5）基準所得税額90,000円（6）復興特別所得税額90,000円 × 2.1％ ＝ 1,890円（7）所得税および復興特別所得税の申告納税額90,000円（所得税額） + 1,890円（復興特別所得税額） ＝ 91,800円（100円未満切り捨て）（注）令和６年分については所得税額から定額減税額が差し引かれます定額減税の詳細については定額減税特設サイトをご覧ください\\n私は会社員であり令和6年1月1日から12月31日までの収入金額は600万円でした勤務先で年末調整がされており交付された源泉徴収票に記載されている給与所得控除後の金額は436万円所得控除の額の合計額は166万円源泉徴収税額は176,100円ですそのほか医療費控除の適用を受けようと考えており計算した医療費の支払額は50万円でしたなお支払った医療費について生命保険などにより6万円の補てんを受けています\\n私は会社員であり令和6年1月1日から12月31日までの収入金額は600万円でした勤務先で年末調整がされており交付された源泉徴収票に記載されている給与所得控除後の金額は436万円所得控除の額の合計額は166万円源泉徴収税額は176,100円ですそのほか医療費控除の適用を受けようと考えており計算した医療費の支払額は50万円でしたなお支払った医療費について生命保険などにより6万円の補てんを受けています\\n＜計算＞（1）所得金額（給与所得）4,360,000円（源泉徴収票に記載されている金額）（2）所得控除額1,660,000円（源泉徴収票に記載されている金額） + 340,000円（医療費控除） ＝ 2,000,000円なお医療費控除の金額は次のとおり計算します医療費控除の金額 ＝ 500,000円（支払額） -  60,000円（補てん額） – 100,000円（注） ＝  340,000円（注）その年の総所得金額等が200万円未満の人は総所得金額等の5％の金額を差し引きます（3）課税所得金額4,360,000円（所得金額） – 2,000,000円（所得控除額） ＝ 2,360,000円（4）所得税額2,360,000円 × 10％ - 97,500円 ＝  138,500円（注）（注）所得税額は所得税の速算表を使用すると簡単に求めることができます詳しくはコード2260所得税の税率を参照してください（5）基準所得税額138,500円（6）復興特別所得税額138,500円 × 2.1％ ＝ 2,908円（7）還付される税金138,500円（所得税額） + 2,908円（復興特別所得税額） – 176,100円（源泉所得税額）  ＝△34,692円（注）令和６年分については所得税額から定額減税額が差し引かれます定額減税の詳細については定額減税特設サイトをご覧ください\\n原則としてその年の翌年2月16日から3月15日までですなお所得税の還付を受けるための申告（還付申告）は上記の期限とは関係なくその年の翌年1月1日から5年間提出することができます\\n申告期限までに確定申告書（還付申告書）を提出してくださいなお国税庁ホームページの確定申告書等作成コーナーでは画面の案内に沿って金額を入力することによりご自宅等で確定申告書等の作成・提出ができます必要な付表や明細書も入力することで自動的に作成されますのでぜひご利用ください\\n上記の申告等の期限までに確定申告をできなかった場合や確定申告の内容に誤りがあることに気付いた場合の取扱いについてはコード2024確定申告を忘れたときまたはコード2026確定申告を間違えたときを参照してください',\n",
       "  'images': [{'image_url': 'https://www.nta.go.jp/taxes/shiraberu/taxanswer/shotoku/img/1000-01.png',\n",
       "    'context': ''},\n",
       "   {'image_url': 'https://www.nta.go.jp/taxes/shiraberu/taxanswer/shotoku/img/1000-02.png',\n",
       "    'context': ''},\n",
       "   {'image_url': 'https://www.nta.go.jp/taxes/shiraberu/taxanswer/shotoku/img/1000-03.png',\n",
       "    'context': ''}]}}"
      ]
     },
     "execution_count": 104,
     "metadata": {},
     "output_type": "execute_result"
    }
   ],
   "source": [
    "answer_codes[0]"
   ]
  },
  {
   "cell_type": "code",
   "execution_count": 105,
   "metadata": {},
   "outputs": [],
   "source": [
    "char_length = 0\n",
    "for entry in answer_codes:\n",
    "    char_length += len(entry[\"content\"][\"text\"])"
   ]
  },
  {
   "cell_type": "code",
   "execution_count": 107,
   "metadata": {},
   "outputs": [
    {
     "data": {
      "text/plain": [
       "607119.5"
      ]
     },
     "execution_count": 107,
     "metadata": {},
     "output_type": "execute_result"
    }
   ],
   "source": [
    "char_length / 2"
   ]
  },
  {
   "cell_type": "code",
   "execution_count": 109,
   "metadata": {},
   "outputs": [],
   "source": [
    "def save_jsonl(data_list, filename):\n",
    "    with open(filename, \"w\", encoding=\"utf-8\") as f:\n",
    "        for item in data_list:\n",
    "            f.write(json.dumps(item, ensure_ascii=False) + \"\\n\")"
   ]
  },
  {
   "cell_type": "code",
   "execution_count": 110,
   "metadata": {},
   "outputs": [],
   "source": [
    "save_jsonl(answer_codes, \"../data/tax_answers.jsonl\")"
   ]
  },
  {
   "cell_type": "code",
   "execution_count": null,
   "metadata": {},
   "outputs": [],
   "source": []
  }
 ],
 "metadata": {
  "kernelspec": {
   "display_name": "playground",
   "language": "python",
   "name": "python3"
  },
  "language_info": {
   "codemirror_mode": {
    "name": "ipython",
    "version": 3
   },
   "file_extension": ".py",
   "mimetype": "text/x-python",
   "name": "python",
   "nbconvert_exporter": "python",
   "pygments_lexer": "ipython3",
   "version": "3.12.3"
  }
 },
 "nbformat": 4,
 "nbformat_minor": 2
}
